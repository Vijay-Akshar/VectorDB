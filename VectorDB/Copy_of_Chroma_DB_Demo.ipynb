{
  "cells": [
    {
      "cell_type": "code",
      "execution_count": null,
      "metadata": {
        "colab": {
          "base_uri": "https://localhost:8080/"
        },
        "id": "24xfvQDcaR3D",
        "outputId": "f55cf31e-4f2c-4853-f502-d5fdca54fcd1"
      },
      "outputs": [
        {
          "name": "stdout",
          "output_type": "stream",
          "text": [
            "\u001b[?25l     \u001b[90m━━━━━━━━━━━━━━━━━━━━━━━━━━━━━━━━━━━━━━━━\u001b[0m \u001b[32m0.0/67.3 kB\u001b[0m \u001b[31m?\u001b[0m eta \u001b[36m-:--:--\u001b[0m\r\u001b[2K     \u001b[90m━━━━━━━━━━━━━━━━━━━━━━━━━━━━━━━━━━━━━━━━\u001b[0m \u001b[32m67.3/67.3 kB\u001b[0m \u001b[31m4.0 MB/s\u001b[0m eta \u001b[36m0:00:00\u001b[0m\n",
            "\u001b[?25h  Installing build dependencies ... \u001b[?25l\u001b[?25hdone\n",
            "  Getting requirements to build wheel ... \u001b[?25l\u001b[?25hdone\n",
            "  Preparing metadata (pyproject.toml) ... \u001b[?25l\u001b[?25hdone\n",
            "\u001b[2K   \u001b[90m━━━━━━━━━━━━━━━━━━━━━━━━━━━━━━━━━━━━━━━━\u001b[0m \u001b[32m611.1/611.1 kB\u001b[0m \u001b[31m19.5 MB/s\u001b[0m eta \u001b[36m0:00:00\u001b[0m\n",
            "\u001b[2K   \u001b[90m━━━━━━━━━━━━━━━━━━━━━━━━━━━━━━━━━━━━━━━━\u001b[0m \u001b[32m2.4/2.4 MB\u001b[0m \u001b[31m36.8 MB/s\u001b[0m eta \u001b[36m0:00:00\u001b[0m\n",
            "\u001b[2K   \u001b[90m━━━━━━━━━━━━━━━━━━━━━━━━━━━━━━━━━━━━━━━━\u001b[0m \u001b[32m284.2/284.2 kB\u001b[0m \u001b[31m13.0 MB/s\u001b[0m eta \u001b[36m0:00:00\u001b[0m\n",
            "\u001b[2K   \u001b[90m━━━━━━━━━━━━━━━━━━━━━━━━━━━━━━━━━━━━━━━━\u001b[0m \u001b[32m95.2/95.2 kB\u001b[0m \u001b[31m6.2 MB/s\u001b[0m eta \u001b[36m0:00:00\u001b[0m\n",
            "\u001b[2K   \u001b[90m━━━━━━━━━━━━━━━━━━━━━━━━━━━━━━━━━━━━━━━━\u001b[0m \u001b[32m2.0/2.0 MB\u001b[0m \u001b[31m39.9 MB/s\u001b[0m eta \u001b[36m0:00:00\u001b[0m\n",
            "\u001b[2K   \u001b[90m━━━━━━━━━━━━━━━━━━━━━━━━━━━━━━━━━━━━━━━━\u001b[0m \u001b[32m101.6/101.6 kB\u001b[0m \u001b[31m6.3 MB/s\u001b[0m eta \u001b[36m0:00:00\u001b[0m\n",
            "\u001b[2K   \u001b[90m━━━━━━━━━━━━━━━━━━━━━━━━━━━━━━━━━━━━━━━━\u001b[0m \u001b[32m16.0/16.0 MB\u001b[0m \u001b[31m38.5 MB/s\u001b[0m eta \u001b[36m0:00:00\u001b[0m\n",
            "\u001b[2K   \u001b[90m━━━━━━━━━━━━━━━━━━━━━━━━━━━━━━━━━━━━━━━━\u001b[0m \u001b[32m55.9/55.9 kB\u001b[0m \u001b[31m3.6 MB/s\u001b[0m eta \u001b[36m0:00:00\u001b[0m\n",
            "\u001b[2K   \u001b[90m━━━━━━━━━━━━━━━━━━━━━━━━━━━━━━━━━━━━━━━━\u001b[0m \u001b[32m85.0/85.0 kB\u001b[0m \u001b[31m5.5 MB/s\u001b[0m eta \u001b[36m0:00:00\u001b[0m\n",
            "\u001b[2K   \u001b[90m━━━━━━━━━━━━━━━━━━━━━━━━━━━━━━━━━━━━━━━━\u001b[0m \u001b[32m62.3/62.3 kB\u001b[0m \u001b[31m4.2 MB/s\u001b[0m eta \u001b[36m0:00:00\u001b[0m\n",
            "\u001b[2K   \u001b[90m━━━━━━━━━━━━━━━━━━━━━━━━━━━━━━━━━━━━━━━━\u001b[0m \u001b[32m459.8/459.8 kB\u001b[0m \u001b[31m12.4 MB/s\u001b[0m eta \u001b[36m0:00:00\u001b[0m\n",
            "\u001b[2K   \u001b[90m━━━━━━━━━━━━━━━━━━━━━━━━━━━━━━━━━━━━━━━━\u001b[0m \u001b[32m72.0/72.0 kB\u001b[0m \u001b[31m5.2 MB/s\u001b[0m eta \u001b[36m0:00:00\u001b[0m\n",
            "\u001b[2K   \u001b[90m━━━━━━━━━━━━━━━━━━━━━━━━━━━━━━━━━━━━━━━━\u001b[0m \u001b[32m4.0/4.0 MB\u001b[0m \u001b[31m39.0 MB/s\u001b[0m eta \u001b[36m0:00:00\u001b[0m\n",
            "\u001b[2K   \u001b[90m━━━━━━━━━━━━━━━━━━━━━━━━━━━━━━━━━━━━━━━━\u001b[0m \u001b[32m452.6/452.6 kB\u001b[0m \u001b[31m22.4 MB/s\u001b[0m eta \u001b[36m0:00:00\u001b[0m\n",
            "\u001b[2K   \u001b[90m━━━━━━━━━━━━━━━━━━━━━━━━━━━━━━━━━━━━━━━━\u001b[0m \u001b[32m46.0/46.0 kB\u001b[0m \u001b[31m2.7 MB/s\u001b[0m eta \u001b[36m0:00:00\u001b[0m\n",
            "\u001b[2K   \u001b[90m━━━━━━━━━━━━━━━━━━━━━━━━━━━━━━━━━━━━━━━━\u001b[0m \u001b[32m86.8/86.8 kB\u001b[0m \u001b[31m5.3 MB/s\u001b[0m eta \u001b[36m0:00:00\u001b[0m\n",
            "\u001b[?25h  Building wheel for pypika (pyproject.toml) ... \u001b[?25l\u001b[?25hdone\n",
            "\u001b[2K   \u001b[90m━━━━━━━━━━━━━━━━━━━━━━━━━━━━━━━━━━━━━━━━\u001b[0m \u001b[32m1.2/1.2 MB\u001b[0m \u001b[31m16.7 MB/s\u001b[0m eta \u001b[36m0:00:00\u001b[0m\n",
            "\u001b[?25h"
          ]
        }
      ],
      "source": [
        "!pip -q install chromadb\n",
        "!pip -q install openai\n",
        "!pip -q install langchain\n",
        "!pip -q install tiktoken"
      ]
    },
    {
      "cell_type": "code",
      "execution_count": null,
      "metadata": {
        "colab": {
          "base_uri": "https://localhost:8080/"
        },
        "id": "47c05Cl4a4dq",
        "outputId": "8bbd3071-4edf-4e5e-ba48-15da97b55b83"
      },
      "outputs": [
        {
          "name": "stdout",
          "output_type": "stream",
          "text": [
            "Name: chromadb\n",
            "Version: 0.6.3\n",
            "Summary: Chroma.\n",
            "Home-page: https://github.com/chroma-core/chroma\n",
            "Author: \n",
            "Author-email: Jeff Huber <jeff@trychroma.com>, Anton Troynikov <anton@trychroma.com>\n",
            "License: \n",
            "Location: /usr/local/lib/python3.11/dist-packages\n",
            "Requires: bcrypt, build, chroma-hnswlib, fastapi, grpcio, httpx, importlib-resources, kubernetes, mmh3, numpy, onnxruntime, opentelemetry-api, opentelemetry-exporter-otlp-proto-grpc, opentelemetry-instrumentation-fastapi, opentelemetry-sdk, orjson, overrides, posthog, pydantic, pypika, PyYAML, rich, tenacity, tokenizers, tqdm, typer, typing_extensions, uvicorn\n",
            "Required-by: \n"
          ]
        }
      ],
      "source": [
        "!pip show chromadb"
      ]
    },
    {
      "cell_type": "code",
      "execution_count": null,
      "metadata": {
        "id": "rLvigt0PbaGw"
      },
      "outputs": [],
      "source": [
        "!wget -q https://www.filesampleshub.com/download/document/txt/sample1.txt"
      ]
    },
    {
      "cell_type": "code",
      "execution_count": null,
      "metadata": {
        "id": "q3-YpLsUc0rW"
      },
      "outputs": [],
      "source": [
        "#Let's set up the environment\n",
        "import os\n",
        "\n",
        "os.environ['OPENAI_API_KEY'] = \"Enter your API Key here\""
      ]
    },
    {
      "cell_type": "code",
      "execution_count": null,
      "metadata": {
        "colab": {
          "base_uri": "https://localhost:8080/"
        },
        "id": "R9kYx5UEgIQC",
        "outputId": "4d2e15d0-85ce-45a9-a9f0-e466e8fbe0bf"
      },
      "outputs": [
        {
          "name": "stdout",
          "output_type": "stream",
          "text": [
            "Collecting langchain-community\n",
            "  Downloading langchain_community-0.3.20-py3-none-any.whl.metadata (2.4 kB)\n",
            "Requirement already satisfied: langchain-core<1.0.0,>=0.3.45 in /usr/local/lib/python3.11/dist-packages (from langchain-community) (0.3.47)\n",
            "Requirement already satisfied: langchain<1.0.0,>=0.3.21 in /usr/local/lib/python3.11/dist-packages (from langchain-community) (0.3.21)\n",
            "Requirement already satisfied: SQLAlchemy<3,>=1.4 in /usr/local/lib/python3.11/dist-packages (from langchain-community) (2.0.39)\n",
            "Requirement already satisfied: requests<3,>=2 in /usr/local/lib/python3.11/dist-packages (from langchain-community) (2.32.3)\n",
            "Requirement already satisfied: PyYAML>=5.3 in /usr/local/lib/python3.11/dist-packages (from langchain-community) (6.0.2)\n",
            "Requirement already satisfied: aiohttp<4.0.0,>=3.8.3 in /usr/local/lib/python3.11/dist-packages (from langchain-community) (3.11.14)\n",
            "Requirement already satisfied: tenacity!=8.4.0,<10,>=8.1.0 in /usr/local/lib/python3.11/dist-packages (from langchain-community) (9.0.0)\n",
            "Collecting dataclasses-json<0.7,>=0.5.7 (from langchain-community)\n",
            "  Downloading dataclasses_json-0.6.7-py3-none-any.whl.metadata (25 kB)\n",
            "Collecting pydantic-settings<3.0.0,>=2.4.0 (from langchain-community)\n",
            "  Downloading pydantic_settings-2.8.1-py3-none-any.whl.metadata (3.5 kB)\n",
            "Requirement already satisfied: langsmith<0.4,>=0.1.125 in /usr/local/lib/python3.11/dist-packages (from langchain-community) (0.3.18)\n",
            "Collecting httpx-sse<1.0.0,>=0.4.0 (from langchain-community)\n",
            "  Downloading httpx_sse-0.4.0-py3-none-any.whl.metadata (9.0 kB)\n",
            "Requirement already satisfied: numpy<3,>=1.26.2 in /usr/local/lib/python3.11/dist-packages (from langchain-community) (2.0.2)\n",
            "Requirement already satisfied: aiohappyeyeballs>=2.3.0 in /usr/local/lib/python3.11/dist-packages (from aiohttp<4.0.0,>=3.8.3->langchain-community) (2.6.1)\n",
            "Requirement already satisfied: aiosignal>=1.1.2 in /usr/local/lib/python3.11/dist-packages (from aiohttp<4.0.0,>=3.8.3->langchain-community) (1.3.2)\n",
            "Requirement already satisfied: attrs>=17.3.0 in /usr/local/lib/python3.11/dist-packages (from aiohttp<4.0.0,>=3.8.3->langchain-community) (25.3.0)\n",
            "Requirement already satisfied: frozenlist>=1.1.1 in /usr/local/lib/python3.11/dist-packages (from aiohttp<4.0.0,>=3.8.3->langchain-community) (1.5.0)\n",
            "Requirement already satisfied: multidict<7.0,>=4.5 in /usr/local/lib/python3.11/dist-packages (from aiohttp<4.0.0,>=3.8.3->langchain-community) (6.2.0)\n",
            "Requirement already satisfied: propcache>=0.2.0 in /usr/local/lib/python3.11/dist-packages (from aiohttp<4.0.0,>=3.8.3->langchain-community) (0.3.0)\n",
            "Requirement already satisfied: yarl<2.0,>=1.17.0 in /usr/local/lib/python3.11/dist-packages (from aiohttp<4.0.0,>=3.8.3->langchain-community) (1.18.3)\n",
            "Collecting marshmallow<4.0.0,>=3.18.0 (from dataclasses-json<0.7,>=0.5.7->langchain-community)\n",
            "  Downloading marshmallow-3.26.1-py3-none-any.whl.metadata (7.3 kB)\n",
            "Collecting typing-inspect<1,>=0.4.0 (from dataclasses-json<0.7,>=0.5.7->langchain-community)\n",
            "  Downloading typing_inspect-0.9.0-py3-none-any.whl.metadata (1.5 kB)\n",
            "Requirement already satisfied: langchain-text-splitters<1.0.0,>=0.3.7 in /usr/local/lib/python3.11/dist-packages (from langchain<1.0.0,>=0.3.21->langchain-community) (0.3.7)\n",
            "Requirement already satisfied: pydantic<3.0.0,>=2.7.4 in /usr/local/lib/python3.11/dist-packages (from langchain<1.0.0,>=0.3.21->langchain-community) (2.10.6)\n",
            "Requirement already satisfied: jsonpatch<2.0,>=1.33 in /usr/local/lib/python3.11/dist-packages (from langchain-core<1.0.0,>=0.3.45->langchain-community) (1.33)\n",
            "Requirement already satisfied: packaging<25,>=23.2 in /usr/local/lib/python3.11/dist-packages (from langchain-core<1.0.0,>=0.3.45->langchain-community) (24.2)\n",
            "Requirement already satisfied: typing-extensions>=4.7 in /usr/local/lib/python3.11/dist-packages (from langchain-core<1.0.0,>=0.3.45->langchain-community) (4.12.2)\n",
            "Requirement already satisfied: httpx<1,>=0.23.0 in /usr/local/lib/python3.11/dist-packages (from langsmith<0.4,>=0.1.125->langchain-community) (0.28.1)\n",
            "Requirement already satisfied: orjson<4.0.0,>=3.9.14 in /usr/local/lib/python3.11/dist-packages (from langsmith<0.4,>=0.1.125->langchain-community) (3.10.15)\n",
            "Requirement already satisfied: requests-toolbelt<2.0.0,>=1.0.0 in /usr/local/lib/python3.11/dist-packages (from langsmith<0.4,>=0.1.125->langchain-community) (1.0.0)\n",
            "Requirement already satisfied: zstandard<0.24.0,>=0.23.0 in /usr/local/lib/python3.11/dist-packages (from langsmith<0.4,>=0.1.125->langchain-community) (0.23.0)\n",
            "Requirement already satisfied: python-dotenv>=0.21.0 in /usr/local/lib/python3.11/dist-packages (from pydantic-settings<3.0.0,>=2.4.0->langchain-community) (1.1.0)\n",
            "Requirement already satisfied: charset-normalizer<4,>=2 in /usr/local/lib/python3.11/dist-packages (from requests<3,>=2->langchain-community) (3.4.1)\n",
            "Requirement already satisfied: idna<4,>=2.5 in /usr/local/lib/python3.11/dist-packages (from requests<3,>=2->langchain-community) (3.10)\n",
            "Requirement already satisfied: urllib3<3,>=1.21.1 in /usr/local/lib/python3.11/dist-packages (from requests<3,>=2->langchain-community) (2.3.0)\n",
            "Requirement already satisfied: certifi>=2017.4.17 in /usr/local/lib/python3.11/dist-packages (from requests<3,>=2->langchain-community) (2025.1.31)\n",
            "Requirement already satisfied: greenlet!=0.4.17 in /usr/local/lib/python3.11/dist-packages (from SQLAlchemy<3,>=1.4->langchain-community) (3.1.1)\n",
            "Requirement already satisfied: anyio in /usr/local/lib/python3.11/dist-packages (from httpx<1,>=0.23.0->langsmith<0.4,>=0.1.125->langchain-community) (4.9.0)\n",
            "Requirement already satisfied: httpcore==1.* in /usr/local/lib/python3.11/dist-packages (from httpx<1,>=0.23.0->langsmith<0.4,>=0.1.125->langchain-community) (1.0.7)\n",
            "Requirement already satisfied: h11<0.15,>=0.13 in /usr/local/lib/python3.11/dist-packages (from httpcore==1.*->httpx<1,>=0.23.0->langsmith<0.4,>=0.1.125->langchain-community) (0.14.0)\n",
            "Requirement already satisfied: jsonpointer>=1.9 in /usr/local/lib/python3.11/dist-packages (from jsonpatch<2.0,>=1.33->langchain-core<1.0.0,>=0.3.45->langchain-community) (3.0.0)\n",
            "Requirement already satisfied: annotated-types>=0.6.0 in /usr/local/lib/python3.11/dist-packages (from pydantic<3.0.0,>=2.7.4->langchain<1.0.0,>=0.3.21->langchain-community) (0.7.0)\n",
            "Requirement already satisfied: pydantic-core==2.27.2 in /usr/local/lib/python3.11/dist-packages (from pydantic<3.0.0,>=2.7.4->langchain<1.0.0,>=0.3.21->langchain-community) (2.27.2)\n",
            "Collecting mypy-extensions>=0.3.0 (from typing-inspect<1,>=0.4.0->dataclasses-json<0.7,>=0.5.7->langchain-community)\n",
            "  Downloading mypy_extensions-1.0.0-py3-none-any.whl.metadata (1.1 kB)\n",
            "Requirement already satisfied: sniffio>=1.1 in /usr/local/lib/python3.11/dist-packages (from anyio->httpx<1,>=0.23.0->langsmith<0.4,>=0.1.125->langchain-community) (1.3.1)\n",
            "Downloading langchain_community-0.3.20-py3-none-any.whl (2.5 MB)\n",
            "\u001b[2K   \u001b[90m━━━━━━━━━━━━━━━━━━━━━━━━━━━━━━━━━━━━━━━━\u001b[0m \u001b[32m2.5/2.5 MB\u001b[0m \u001b[31m39.1 MB/s\u001b[0m eta \u001b[36m0:00:00\u001b[0m\n",
            "\u001b[?25hDownloading dataclasses_json-0.6.7-py3-none-any.whl (28 kB)\n",
            "Downloading httpx_sse-0.4.0-py3-none-any.whl (7.8 kB)\n",
            "Downloading pydantic_settings-2.8.1-py3-none-any.whl (30 kB)\n",
            "Downloading marshmallow-3.26.1-py3-none-any.whl (50 kB)\n",
            "\u001b[2K   \u001b[90m━━━━━━━━━━━━━━━━━━━━━━━━━━━━━━━━━━━━━━━━\u001b[0m \u001b[32m50.9/50.9 kB\u001b[0m \u001b[31m3.7 MB/s\u001b[0m eta \u001b[36m0:00:00\u001b[0m\n",
            "\u001b[?25hDownloading typing_inspect-0.9.0-py3-none-any.whl (8.8 kB)\n",
            "Downloading mypy_extensions-1.0.0-py3-none-any.whl (4.7 kB)\n",
            "Installing collected packages: mypy-extensions, marshmallow, httpx-sse, typing-inspect, pydantic-settings, dataclasses-json, langchain-community\n",
            "Successfully installed dataclasses-json-0.6.7 httpx-sse-0.4.0 langchain-community-0.3.20 marshmallow-3.26.1 mypy-extensions-1.0.0 pydantic-settings-2.8.1 typing-inspect-0.9.0\n"
          ]
        }
      ],
      "source": [
        "pip install -U langchain-community"
      ]
    },
    {
      "cell_type": "code",
      "execution_count": null,
      "metadata": {
        "id": "InaRiF0IetBz"
      },
      "outputs": [],
      "source": [
        "#let's import\n",
        "from langchain.vectorstores import Chroma\n",
        "from langchain.embeddings import OpenAIEmbeddings\n",
        "from langchain.llms import OpenAI\n",
        "from langchain.document_loaders import DirectoryLoader\n",
        "from langchain.document_loaders import TextLoader"
      ]
    },
    {
      "cell_type": "markdown",
      "metadata": {
        "id": "Uc0ZZISkgQxy"
      },
      "source": [
        "Load data"
      ]
    },
    {
      "cell_type": "code",
      "execution_count": null,
      "metadata": {
        "id": "EJQ9FckugP4Y"
      },
      "outputs": [],
      "source": [
        "loader = DirectoryLoader(\"/content/Texts\", glob=\"./*.txt\", loader_cls=TextLoader)"
      ]
    },
    {
      "cell_type": "code",
      "execution_count": null,
      "metadata": {
        "id": "Lgo5pXOHqL11"
      },
      "outputs": [],
      "source": [
        "document = loader.load()"
      ]
    },
    {
      "cell_type": "code",
      "execution_count": null,
      "metadata": {
        "colab": {
          "base_uri": "https://localhost:8080/"
        },
        "id": "QL9t8NRsqgke",
        "outputId": "45ca765d-d2f9-4cb8-ca38-5622d36bd3fb"
      },
      "outputs": [
        {
          "data": {
            "text/plain": [
              "[Document(metadata={'source': '/content/Texts/importance_of_sleep.txt'}, page_content=\"The Importance of Sleep for Health and Well-Being\\n\\nSleep is often underestimated, yet it is one of the most vital processes for maintaining overall health. While many people focus on diet and exercise, sleep often gets neglected. However, sleep is just as essential as food and water when it comes to survival and mental functioning.\\n\\nDuring sleep, the body repairs tissues, consolidates memories, and regulates hormones. Poor sleep habits can interfere with these processes, leading to a range of health issues. Sleep deprivation is linked to obesity, weakened immunity, high blood pressure, and even increased risk of heart disease.\\n\\nMental health also heavily depends on good sleep. Lack of sleep can cause irritability, anxiety, depression, and decreased cognitive function. It becomes harder to focus, make decisions, or regulate emotions. For students and professionals alike, this can significantly reduce productivity and quality of life.\\n\\nSleep disorders such as insomnia, sleep apnea, and restless leg syndrome affect millions of people worldwide. These conditions make it difficult to get restorative sleep and often go undiagnosed. Treating them early with behavioral therapy or medical intervention can improve health outcomes dramatically.\\n\\nGood sleep hygiene involves consistent sleep schedules, limiting screen time before bed, and creating a restful environment. Avoiding caffeine late in the day and engaging in relaxing activities like reading can also improve sleep quality. Exercise, while beneficial for sleep, should be done earlier in the day to avoid late-night stimulation.\\n\\nUltimately, making sleep a priority leads to long-term benefits. It enhances mood, strengthens memory, supports physical health, and even extends life expectancy. In a fast-paced world, rest may seem like a luxury, but it's actually a foundation for a better life.\\n\"),\n",
              " Document(metadata={'source': '/content/Texts/remote_work_trends.txt'}, page_content=\"The Rise and Future of Remote Work\\n\\nRemote work has grown from a niche benefit to a mainstream employment model. Before 2020, only a fraction of the global workforce worked remotely. However, the COVID-19 pandemic forced companies to adapt, pushing employees into home offices virtually overnight. The result was a massive cultural shift in how we define work and productivity.\\n\\nEmployees and employers alike discovered unexpected advantages. Workers reported higher satisfaction due to flexible schedules, reduced commuting, and more time with family. Companies realized they could cut costs on office space and utilities while maintaining or even increasing productivity. This shift also opened the door to a global talent pool, allowing businesses to hire the best candidates regardless of location.\\n\\nStill, remote work isn't without its challenges. Many workers struggle with isolation, blurred work-life boundaries, and burnout. Without a clear division between home and office, it becomes difficult to “switch off” at the end of the day. Communication issues also arise when teams span time zones or rely heavily on asynchronous messaging.\\n\\nTo succeed in a remote-first world, companies must adopt supportive structures. This includes setting clear expectations, providing mental health resources, and creating opportunities for social interaction. Tools like Zoom, Slack, and project management platforms have become essential for collaboration.\\n\\nAs the dust settles post-pandemic, many businesses are adopting hybrid models. These approaches combine the flexibility of remote work with the collaboration benefits of in-person meetings. Employees can choose when to come into the office, leading to a more balanced, personalized work experience.\\n\\nLooking ahead, remote work is likely here to stay in some form. The key lies in making it sustainable. By prioritizing well-being, improving digital infrastructure, and maintaining strong communication, both workers and companies can thrive in this new landscape.\\n\"),\n",
              " Document(metadata={'source': '/content/Texts/benefits_of_reading_daily.txt'}, page_content=\"The Benefits of Reading Daily\\n\\nReading is one of the most enriching activities a person can engage in. While modern life offers many forms of entertainment and information, the act of reading—whether fiction or nonfiction—provides unique mental, emotional, and even physical benefits. Making reading a daily habit can improve your life in ways you might not expect.\\n\\nMentally, reading keeps the brain active and engaged. Just like exercise strengthens the body, reading strengthens the mind. Studies have shown that regular readers have better memory, focus, and analytical skills. Reading also helps reduce the risk of cognitive decline as we age, keeping the brain sharp and alert.\\n\\nReading enhances vocabulary and language skills. Exposure to different writing styles, ideas, and structures improves communication. People who read frequently tend to be more articulate and confident when expressing themselves. This can have positive effects in both academic and professional settings.\\n\\nEmotionally, reading can provide comfort and reduce stress. Getting lost in a good book allows readers to escape daily worries and explore new perspectives. Fictional stories foster empathy by letting readers step into someone else’s shoes, while self-help or philosophical texts can provide guidance and insight.\\n\\nReading also promotes better sleep. Unlike the blue light from screens, the act of reading a physical book can signal to the brain that it’s time to wind down. Many people find that reading before bed helps them relax and fall asleep more easily.\\n\\nBeyond individual benefits, reading helps build knowledge and critical thinking. Nonfiction books offer in-depth understanding of complex topics like history, science, politics, and human behavior. This knowledge can help readers make informed decisions and engage more meaningfully in discussions and civic life.\\n\\nCultivating a reading habit doesn't require hours of free time. Even 20–30 minutes a day can yield noticeable benefits. Whether it’s during a morning commute, lunch break, or before bed, small daily reading sessions can become a meaningful routine.\\n\\nIn conclusion, daily reading is a simple yet powerful habit. It nurtures the mind, strengthens emotional well-being, and opens the door to lifelong learning. In a fast-paced world dominated by screens and instant information, taking time to read can ground us, inspire us, and improve our lives in profound ways.\\n\"),\n",
              " Document(metadata={'source': '/content/Texts/digital_privacy_in_the_modern_world.txt'}, page_content='Digital Privacy in the Modern World\\n\\nIn the digital age, personal data has become one of the most valuable commodities. Every time we browse the internet, use social media, or shop online, we leave behind digital footprints. These traces can reveal everything from our interests and behaviors to our location and financial information. As technology evolves, the issue of digital privacy becomes more critical than ever.\\n\\nCompanies collect massive amounts of data to personalize user experiences and target advertising. While this can be convenient—like receiving product suggestions or quicker services—it also opens the door to misuse. Data breaches, identity theft, and unauthorized tracking are real threats. High-profile incidents involving major corporations have raised public concern about how securely personal data is handled.\\n\\nSocial media platforms are particularly notorious for collecting and monetizing user data. Many users are unaware of how much information they’re sharing, not just through posts but through likes, shares, and even the time spent viewing content. This data is often sold to third-party advertisers, creating detailed profiles used for targeted ads.\\n\\nGovernments also play a role in digital surveillance. In the name of national security, many governments monitor online activity. While this can help prevent crimes or terrorism, it raises questions about the balance between safety and individual freedom. In some countries, surveillance is used to suppress dissent and control the population.\\n\\nLegislation like the General Data Protection Regulation (GDPR) in the European Union and the California Consumer Privacy Act (CCPA) in the United States represent important steps toward protecting digital privacy. These laws give users more control over their data and require companies to be transparent about their practices.\\n\\nDespite these protections, many users do not take steps to safeguard their own privacy. Simple actions like using strong, unique passwords, enabling two-factor authentication, and avoiding public Wi-Fi for sensitive transactions can go a long way. Privacy-focused tools like encrypted messaging apps, VPNs, and browser extensions can also enhance security.\\n\\nEducation and awareness are key. As people become more informed about the risks, they are more likely to demand better practices from tech companies and governments. Digital literacy should be a priority in schools and workplaces to empower individuals to protect their rights.\\n\\nUltimately, digital privacy is about control—over your personal information and how it’s used. In a connected world, privacy can’t be an afterthought. It must be built into the technology we use every day and protected through laws, ethics, and individual actions. As users, we must stay vigilant and advocate for a digital world that respects and preserves our privacy.\\n'),\n",
              " Document(metadata={'source': '/content/Texts/impact_of_social_media.txt'}, page_content=\"The Impact of Social Media on Mental Health\\n\\nSocial media platforms have revolutionized communication, allowing people to connect across the globe. However, this convenience comes with significant downsides, especially regarding mental health. Platforms like Instagram and TikTok often promote curated realities, where users only post highlights of their lives. This has led to widespread social comparison, where individuals feel inadequate when they compare themselves to seemingly perfect lives online.\\n\\nResearch shows a strong link between excessive social media use and symptoms of anxiety and depression. The constant exposure to filtered images and success stories can create a sense of failure in everyday users. Moreover, social media can disrupt sleep patterns and reduce face-to-face interactions, both of which are crucial for maintaining mental well-being.\\n\\nCyberbullying is another growing concern. Many people, especially teenagers, face harassment online. The anonymity of the internet allows bullies to act without fear of consequences, and the 24/7 nature of social media makes it hard for victims to find relief. Prolonged exposure to such negativity can lead to serious psychological effects.\\n\\nDespite these issues, social media isn't all bad. It also provides support communities, especially for people dealing with mental health issues. Online forums and advocacy accounts can be a source of information, comfort, and encouragement. For many, these platforms are a lifeline, offering connection and understanding that they may not find offline.\\n\\nDigital well-being is about balance. It’s essential to monitor your screen time, unfollow accounts that trigger negative feelings, and prioritize in-person connections. Some users take regular social media detoxes to reset their mental state, and many report improved mood and focus afterward.\\n\\nIn conclusion, while social media can negatively affect mental health, responsible usage and digital literacy can mitigate its harmful effects. Understanding how these platforms influence our emotions is the first step in maintaining a healthy relationship with technology.\\n\"),\n",
              " Document(metadata={'source': '/content/Texts/climate_change_and_its_effects.txt'}, page_content='Climate Change and Its Effects\\n\\nClimate change is one of the most urgent and complex challenges facing the world today. Driven by human activities, especially the burning of fossil fuels, it has far-reaching impacts on the environment, ecosystems, and human societies. From rising sea levels to more extreme weather events, the effects of a warming planet are becoming increasingly visible and dangerous.\\n\\nGreenhouse gases, such as carbon dioxide and methane, trap heat in the Earth’s atmosphere. As industrial activity, transportation, and deforestation have increased over the past century, so has the concentration of these gases. The result is a gradual but consistent rise in global temperatures, often referred to as global warming.\\n\\nThe effects of climate change are varied and interconnected. One major consequence is the melting of polar ice caps and glaciers. This contributes to rising sea levels, which threaten coastal communities and small island nations. Entire populations could be displaced due to flooding, erosion, and the salinization of freshwater supplies.\\n\\nExtreme weather events are also becoming more frequent and severe. Hurricanes, droughts, wildfires, and heatwaves are now more intense and unpredictable. These disasters not only damage infrastructure but also lead to economic hardship and loss of life. Farmers are seeing changes in crop yields, and water scarcity is becoming a major issue in regions that once had stable supplies.\\n\\nClimate change also affects biodiversity. As temperatures rise and habitats shift, many species are forced to migrate or face extinction. Coral reefs, which support marine ecosystems, are dying due to ocean warming and acidification. On land, forests are under stress from heat and pests, while animals struggle to adapt to rapidly changing environments.\\n\\nThe social and economic consequences are just as serious. Developing countries, which contribute the least to global emissions, often suffer the most. Climate change can exacerbate inequality, strain healthcare systems, and lead to conflicts over resources. Migration due to uninhabitable environments may lead to political instability in some regions.\\n\\nDespite the grim outlook, there is still hope. Efforts to mitigate climate change include transitioning to renewable energy sources such as wind and solar power, improving energy efficiency, and protecting forests. International agreements like the Paris Accord aim to unite countries in limiting global temperature rise.\\n\\nIndividuals can also play a role by reducing their carbon footprint—driving less, consuming responsibly, and supporting sustainable businesses. Public awareness and collective action are key. When people understand the stakes, they are more likely to support policies and behaviors that lead to lasting change.\\n\\nIn conclusion, climate change is not a distant threat—it is a present crisis that affects every aspect of life on Earth. Tackling it requires global cooperation, innovation, and commitment to sustainable practices. By acting now, we can protect the planet for future generations.\\n')]"
            ]
          },
          "execution_count": 10,
          "metadata": {},
          "output_type": "execute_result"
        }
      ],
      "source": [
        "document"
      ]
    },
    {
      "cell_type": "code",
      "execution_count": null,
      "metadata": {
        "id": "TxfgPj5sBpmv"
      },
      "outputs": [],
      "source": [
        "from langchain_text_splitters import RecursiveCharacterTextSplitter"
      ]
    },
    {
      "cell_type": "code",
      "execution_count": null,
      "metadata": {
        "id": "SrdjwjUKx5SG"
      },
      "outputs": [],
      "source": [
        "text_splitter = RecursiveCharacterTextSplitter(chunk_size = 1000, chunk_overlap = 200)\n",
        "text = text_splitter.split_documents(document)"
      ]
    },
    {
      "cell_type": "code",
      "execution_count": null,
      "metadata": {
        "colab": {
          "base_uri": "https://localhost:8080/"
        },
        "id": "nRvXvSPkzUXj",
        "outputId": "ce4bee25-e498-4556-ae41-5b242de4f504"
      },
      "outputs": [
        {
          "data": {
            "text/plain": [
              "[Document(metadata={'source': '/content/Texts/importance_of_sleep.txt'}, page_content='The Importance of Sleep for Health and Well-Being\\n\\nSleep is often underestimated, yet it is one of the most vital processes for maintaining overall health. While many people focus on diet and exercise, sleep often gets neglected. However, sleep is just as essential as food and water when it comes to survival and mental functioning.\\n\\nDuring sleep, the body repairs tissues, consolidates memories, and regulates hormones. Poor sleep habits can interfere with these processes, leading to a range of health issues. Sleep deprivation is linked to obesity, weakened immunity, high blood pressure, and even increased risk of heart disease.\\n\\nMental health also heavily depends on good sleep. Lack of sleep can cause irritability, anxiety, depression, and decreased cognitive function. It becomes harder to focus, make decisions, or regulate emotions. For students and professionals alike, this can significantly reduce productivity and quality of life.'),\n",
              " Document(metadata={'source': '/content/Texts/importance_of_sleep.txt'}, page_content=\"Sleep disorders such as insomnia, sleep apnea, and restless leg syndrome affect millions of people worldwide. These conditions make it difficult to get restorative sleep and often go undiagnosed. Treating them early with behavioral therapy or medical intervention can improve health outcomes dramatically.\\n\\nGood sleep hygiene involves consistent sleep schedules, limiting screen time before bed, and creating a restful environment. Avoiding caffeine late in the day and engaging in relaxing activities like reading can also improve sleep quality. Exercise, while beneficial for sleep, should be done earlier in the day to avoid late-night stimulation.\\n\\nUltimately, making sleep a priority leads to long-term benefits. It enhances mood, strengthens memory, supports physical health, and even extends life expectancy. In a fast-paced world, rest may seem like a luxury, but it's actually a foundation for a better life.\"),\n",
              " Document(metadata={'source': '/content/Texts/remote_work_trends.txt'}, page_content='The Rise and Future of Remote Work\\n\\nRemote work has grown from a niche benefit to a mainstream employment model. Before 2020, only a fraction of the global workforce worked remotely. However, the COVID-19 pandemic forced companies to adapt, pushing employees into home offices virtually overnight. The result was a massive cultural shift in how we define work and productivity.\\n\\nEmployees and employers alike discovered unexpected advantages. Workers reported higher satisfaction due to flexible schedules, reduced commuting, and more time with family. Companies realized they could cut costs on office space and utilities while maintaining or even increasing productivity. This shift also opened the door to a global talent pool, allowing businesses to hire the best candidates regardless of location.'),\n",
              " Document(metadata={'source': '/content/Texts/remote_work_trends.txt'}, page_content=\"Still, remote work isn't without its challenges. Many workers struggle with isolation, blurred work-life boundaries, and burnout. Without a clear division between home and office, it becomes difficult to “switch off” at the end of the day. Communication issues also arise when teams span time zones or rely heavily on asynchronous messaging.\\n\\nTo succeed in a remote-first world, companies must adopt supportive structures. This includes setting clear expectations, providing mental health resources, and creating opportunities for social interaction. Tools like Zoom, Slack, and project management platforms have become essential for collaboration.\\n\\nAs the dust settles post-pandemic, many businesses are adopting hybrid models. These approaches combine the flexibility of remote work with the collaboration benefits of in-person meetings. Employees can choose when to come into the office, leading to a more balanced, personalized work experience.\"),\n",
              " Document(metadata={'source': '/content/Texts/remote_work_trends.txt'}, page_content='Looking ahead, remote work is likely here to stay in some form. The key lies in making it sustainable. By prioritizing well-being, improving digital infrastructure, and maintaining strong communication, both workers and companies can thrive in this new landscape.'),\n",
              " Document(metadata={'source': '/content/Texts/benefits_of_reading_daily.txt'}, page_content='The Benefits of Reading Daily\\n\\nReading is one of the most enriching activities a person can engage in. While modern life offers many forms of entertainment and information, the act of reading—whether fiction or nonfiction—provides unique mental, emotional, and even physical benefits. Making reading a daily habit can improve your life in ways you might not expect.\\n\\nMentally, reading keeps the brain active and engaged. Just like exercise strengthens the body, reading strengthens the mind. Studies have shown that regular readers have better memory, focus, and analytical skills. Reading also helps reduce the risk of cognitive decline as we age, keeping the brain sharp and alert.\\n\\nReading enhances vocabulary and language skills. Exposure to different writing styles, ideas, and structures improves communication. People who read frequently tend to be more articulate and confident when expressing themselves. This can have positive effects in both academic and professional settings.'),\n",
              " Document(metadata={'source': '/content/Texts/benefits_of_reading_daily.txt'}, page_content='Emotionally, reading can provide comfort and reduce stress. Getting lost in a good book allows readers to escape daily worries and explore new perspectives. Fictional stories foster empathy by letting readers step into someone else’s shoes, while self-help or philosophical texts can provide guidance and insight.\\n\\nReading also promotes better sleep. Unlike the blue light from screens, the act of reading a physical book can signal to the brain that it’s time to wind down. Many people find that reading before bed helps them relax and fall asleep more easily.\\n\\nBeyond individual benefits, reading helps build knowledge and critical thinking. Nonfiction books offer in-depth understanding of complex topics like history, science, politics, and human behavior. This knowledge can help readers make informed decisions and engage more meaningfully in discussions and civic life.'),\n",
              " Document(metadata={'source': '/content/Texts/benefits_of_reading_daily.txt'}, page_content=\"Cultivating a reading habit doesn't require hours of free time. Even 20–30 minutes a day can yield noticeable benefits. Whether it’s during a morning commute, lunch break, or before bed, small daily reading sessions can become a meaningful routine.\\n\\nIn conclusion, daily reading is a simple yet powerful habit. It nurtures the mind, strengthens emotional well-being, and opens the door to lifelong learning. In a fast-paced world dominated by screens and instant information, taking time to read can ground us, inspire us, and improve our lives in profound ways.\"),\n",
              " Document(metadata={'source': '/content/Texts/digital_privacy_in_the_modern_world.txt'}, page_content='Digital Privacy in the Modern World\\n\\nIn the digital age, personal data has become one of the most valuable commodities. Every time we browse the internet, use social media, or shop online, we leave behind digital footprints. These traces can reveal everything from our interests and behaviors to our location and financial information. As technology evolves, the issue of digital privacy becomes more critical than ever.\\n\\nCompanies collect massive amounts of data to personalize user experiences and target advertising. While this can be convenient—like receiving product suggestions or quicker services—it also opens the door to misuse. Data breaches, identity theft, and unauthorized tracking are real threats. High-profile incidents involving major corporations have raised public concern about how securely personal data is handled.'),\n",
              " Document(metadata={'source': '/content/Texts/digital_privacy_in_the_modern_world.txt'}, page_content='Social media platforms are particularly notorious for collecting and monetizing user data. Many users are unaware of how much information they’re sharing, not just through posts but through likes, shares, and even the time spent viewing content. This data is often sold to third-party advertisers, creating detailed profiles used for targeted ads.\\n\\nGovernments also play a role in digital surveillance. In the name of national security, many governments monitor online activity. While this can help prevent crimes or terrorism, it raises questions about the balance between safety and individual freedom. In some countries, surveillance is used to suppress dissent and control the population.'),\n",
              " Document(metadata={'source': '/content/Texts/digital_privacy_in_the_modern_world.txt'}, page_content='Legislation like the General Data Protection Regulation (GDPR) in the European Union and the California Consumer Privacy Act (CCPA) in the United States represent important steps toward protecting digital privacy. These laws give users more control over their data and require companies to be transparent about their practices.\\n\\nDespite these protections, many users do not take steps to safeguard their own privacy. Simple actions like using strong, unique passwords, enabling two-factor authentication, and avoiding public Wi-Fi for sensitive transactions can go a long way. Privacy-focused tools like encrypted messaging apps, VPNs, and browser extensions can also enhance security.\\n\\nEducation and awareness are key. As people become more informed about the risks, they are more likely to demand better practices from tech companies and governments. Digital literacy should be a priority in schools and workplaces to empower individuals to protect their rights.'),\n",
              " Document(metadata={'source': '/content/Texts/digital_privacy_in_the_modern_world.txt'}, page_content='Ultimately, digital privacy is about control—over your personal information and how it’s used. In a connected world, privacy can’t be an afterthought. It must be built into the technology we use every day and protected through laws, ethics, and individual actions. As users, we must stay vigilant and advocate for a digital world that respects and preserves our privacy.'),\n",
              " Document(metadata={'source': '/content/Texts/impact_of_social_media.txt'}, page_content='The Impact of Social Media on Mental Health\\n\\nSocial media platforms have revolutionized communication, allowing people to connect across the globe. However, this convenience comes with significant downsides, especially regarding mental health. Platforms like Instagram and TikTok often promote curated realities, where users only post highlights of their lives. This has led to widespread social comparison, where individuals feel inadequate when they compare themselves to seemingly perfect lives online.\\n\\nResearch shows a strong link between excessive social media use and symptoms of anxiety and depression. The constant exposure to filtered images and success stories can create a sense of failure in everyday users. Moreover, social media can disrupt sleep patterns and reduce face-to-face interactions, both of which are crucial for maintaining mental well-being.'),\n",
              " Document(metadata={'source': '/content/Texts/impact_of_social_media.txt'}, page_content=\"Cyberbullying is another growing concern. Many people, especially teenagers, face harassment online. The anonymity of the internet allows bullies to act without fear of consequences, and the 24/7 nature of social media makes it hard for victims to find relief. Prolonged exposure to such negativity can lead to serious psychological effects.\\n\\nDespite these issues, social media isn't all bad. It also provides support communities, especially for people dealing with mental health issues. Online forums and advocacy accounts can be a source of information, comfort, and encouragement. For many, these platforms are a lifeline, offering connection and understanding that they may not find offline.\\n\\nDigital well-being is about balance. It’s essential to monitor your screen time, unfollow accounts that trigger negative feelings, and prioritize in-person connections. Some users take regular social media detoxes to reset their mental state, and many report improved mood and focus afterward.\"),\n",
              " Document(metadata={'source': '/content/Texts/impact_of_social_media.txt'}, page_content='In conclusion, while social media can negatively affect mental health, responsible usage and digital literacy can mitigate its harmful effects. Understanding how these platforms influence our emotions is the first step in maintaining a healthy relationship with technology.'),\n",
              " Document(metadata={'source': '/content/Texts/climate_change_and_its_effects.txt'}, page_content='Climate Change and Its Effects\\n\\nClimate change is one of the most urgent and complex challenges facing the world today. Driven by human activities, especially the burning of fossil fuels, it has far-reaching impacts on the environment, ecosystems, and human societies. From rising sea levels to more extreme weather events, the effects of a warming planet are becoming increasingly visible and dangerous.\\n\\nGreenhouse gases, such as carbon dioxide and methane, trap heat in the Earth’s atmosphere. As industrial activity, transportation, and deforestation have increased over the past century, so has the concentration of these gases. The result is a gradual but consistent rise in global temperatures, often referred to as global warming.'),\n",
              " Document(metadata={'source': '/content/Texts/climate_change_and_its_effects.txt'}, page_content='The effects of climate change are varied and interconnected. One major consequence is the melting of polar ice caps and glaciers. This contributes to rising sea levels, which threaten coastal communities and small island nations. Entire populations could be displaced due to flooding, erosion, and the salinization of freshwater supplies.\\n\\nExtreme weather events are also becoming more frequent and severe. Hurricanes, droughts, wildfires, and heatwaves are now more intense and unpredictable. These disasters not only damage infrastructure but also lead to economic hardship and loss of life. Farmers are seeing changes in crop yields, and water scarcity is becoming a major issue in regions that once had stable supplies.'),\n",
              " Document(metadata={'source': '/content/Texts/climate_change_and_its_effects.txt'}, page_content='Climate change also affects biodiversity. As temperatures rise and habitats shift, many species are forced to migrate or face extinction. Coral reefs, which support marine ecosystems, are dying due to ocean warming and acidification. On land, forests are under stress from heat and pests, while animals struggle to adapt to rapidly changing environments.\\n\\nThe social and economic consequences are just as serious. Developing countries, which contribute the least to global emissions, often suffer the most. Climate change can exacerbate inequality, strain healthcare systems, and lead to conflicts over resources. Migration due to uninhabitable environments may lead to political instability in some regions.'),\n",
              " Document(metadata={'source': '/content/Texts/climate_change_and_its_effects.txt'}, page_content='Despite the grim outlook, there is still hope. Efforts to mitigate climate change include transitioning to renewable energy sources such as wind and solar power, improving energy efficiency, and protecting forests. International agreements like the Paris Accord aim to unite countries in limiting global temperature rise.\\n\\nIndividuals can also play a role by reducing their carbon footprint—driving less, consuming responsibly, and supporting sustainable businesses. Public awareness and collective action are key. When people understand the stakes, they are more likely to support policies and behaviors that lead to lasting change.\\n\\nIn conclusion, climate change is not a distant threat—it is a present crisis that affects every aspect of life on Earth. Tackling it requires global cooperation, innovation, and commitment to sustainable practices. By acting now, we can protect the planet for future generations.')]"
            ]
          },
          "execution_count": 13,
          "metadata": {},
          "output_type": "execute_result"
        }
      ],
      "source": [
        "text"
      ]
    },
    {
      "cell_type": "code",
      "execution_count": null,
      "metadata": {
        "colab": {
          "base_uri": "https://localhost:8080/"
        },
        "id": "LaPD4dy3zZZw",
        "outputId": "d779cf09-df4f-4588-9ee7-d2264cc73293"
      },
      "outputs": [
        {
          "data": {
            "text/plain": [
              "19"
            ]
          },
          "execution_count": 14,
          "metadata": {},
          "output_type": "execute_result"
        }
      ],
      "source": [
        "len(text)"
      ]
    },
    {
      "cell_type": "markdown",
      "metadata": {
        "id": "s56szH9wzcqv"
      },
      "source": [
        "Creating DB"
      ]
    },
    {
      "cell_type": "code",
      "execution_count": null,
      "metadata": {
        "colab": {
          "base_uri": "https://localhost:8080/"
        },
        "id": "XY9_wwsDz0uw",
        "outputId": "198c68d7-31e4-4785-d190-68b9a7f79ec8"
      },
      "outputs": [
        {
          "name": "stderr",
          "output_type": "stream",
          "text": [
            "<ipython-input-15-ea125b690efa>:4: LangChainDeprecationWarning: The class `OpenAIEmbeddings` was deprecated in LangChain 0.0.9 and will be removed in 1.0. An updated version of the class exists in the :class:`~langchain-openai package and should be used instead. To use it run `pip install -U :class:`~langchain-openai` and import as `from :class:`~langchain_openai import OpenAIEmbeddings``.\n",
            "  embedding = OpenAIEmbeddings()\n"
          ]
        }
      ],
      "source": [
        "from langchain import embeddings\n",
        "persist_directory = 'db'\n",
        "\n",
        "embedding = OpenAIEmbeddings()\n",
        "\n",
        "vectordb = Chroma.from_documents(documents=text,\n",
        "                                 embedding=embedding,\n",
        "                                 persist_directory=persist_directory)"
      ]
    },
    {
      "cell_type": "code",
      "execution_count": null,
      "metadata": {
        "colab": {
          "base_uri": "https://localhost:8080/"
        },
        "id": "twVQUhyj0JuX",
        "outputId": "d696b69f-4f0c-436d-b6b2-66964ba6a9d3"
      },
      "outputs": [
        {
          "name": "stderr",
          "output_type": "stream",
          "text": [
            "<ipython-input-16-dbcd8cf8cea5>:1: LangChainDeprecationWarning: Since Chroma 0.4.x the manual persistence method is no longer supported as docs are automatically persisted.\n",
            "  vectordb.persist()\n"
          ]
        }
      ],
      "source": [
        "vectordb.persist()\n",
        "vectordb = None"
      ]
    },
    {
      "cell_type": "code",
      "execution_count": null,
      "metadata": {
        "colab": {
          "base_uri": "https://localhost:8080/"
        },
        "id": "gglWCcfO0xMQ",
        "outputId": "f3ebd93b-25c9-413c-a00d-4d84509caed3"
      },
      "outputs": [
        {
          "name": "stderr",
          "output_type": "stream",
          "text": [
            "<ipython-input-17-c6d480852fae>:1: LangChainDeprecationWarning: The class `Chroma` was deprecated in LangChain 0.2.9 and will be removed in 1.0. An updated version of the class exists in the :class:`~langchain-chroma package and should be used instead. To use it run `pip install -U :class:`~langchain-chroma` and import as `from :class:`~langchain_chroma import Chroma``.\n",
            "  vectordb = Chroma(persist_directory=persist_directory, embedding_function=embedding)\n"
          ]
        }
      ],
      "source": [
        "vectordb = Chroma(persist_directory=persist_directory, embedding_function=embedding)"
      ]
    },
    {
      "cell_type": "markdown",
      "metadata": {
        "id": "05X-qiQM08aa"
      },
      "source": [
        "Make a retriever"
      ]
    },
    {
      "cell_type": "code",
      "execution_count": null,
      "metadata": {
        "id": "veWejUl109wM"
      },
      "outputs": [],
      "source": [
        "retriever = vectordb.as_retriever()"
      ]
    },
    {
      "cell_type": "code",
      "execution_count": null,
      "metadata": {
        "colab": {
          "base_uri": "https://localhost:8080/"
        },
        "id": "MUmemGxP1Djc",
        "outputId": "d4a32b40-e0d0-47ab-fef2-04a679c243aa"
      },
      "outputs": [
        {
          "name": "stderr",
          "output_type": "stream",
          "text": [
            "<ipython-input-19-5da4c28684c7>:1: LangChainDeprecationWarning: The method `BaseRetriever.get_relevant_documents` was deprecated in langchain-core 0.1.46 and will be removed in 1.0. Use :meth:`~invoke` instead.\n",
            "  docs = retriever.get_relevant_documents(\"Is it okay to skip sleep once a week?\")\n"
          ]
        }
      ],
      "source": [
        "docs = retriever.get_relevant_documents(\"Is it okay to skip sleep once a week?\")"
      ]
    },
    {
      "cell_type": "code",
      "execution_count": null,
      "metadata": {
        "colab": {
          "base_uri": "https://localhost:8080/"
        },
        "id": "FLG8oVRu10FE",
        "outputId": "3d983c21-6042-4cfd-8374-c7141884e8a4"
      },
      "outputs": [
        {
          "data": {
            "text/plain": [
              "[Document(metadata={'source': '/content/Texts/importance_of_sleep.txt'}, page_content=\"Sleep disorders such as insomnia, sleep apnea, and restless leg syndrome affect millions of people worldwide. These conditions make it difficult to get restorative sleep and often go undiagnosed. Treating them early with behavioral therapy or medical intervention can improve health outcomes dramatically.\\n\\nGood sleep hygiene involves consistent sleep schedules, limiting screen time before bed, and creating a restful environment. Avoiding caffeine late in the day and engaging in relaxing activities like reading can also improve sleep quality. Exercise, while beneficial for sleep, should be done earlier in the day to avoid late-night stimulation.\\n\\nUltimately, making sleep a priority leads to long-term benefits. It enhances mood, strengthens memory, supports physical health, and even extends life expectancy. In a fast-paced world, rest may seem like a luxury, but it's actually a foundation for a better life.\"),\n",
              " Document(metadata={'source': '/content/Texts/importance_of_sleep.txt'}, page_content='The Importance of Sleep for Health and Well-Being\\n\\nSleep is often underestimated, yet it is one of the most vital processes for maintaining overall health. While many people focus on diet and exercise, sleep often gets neglected. However, sleep is just as essential as food and water when it comes to survival and mental functioning.\\n\\nDuring sleep, the body repairs tissues, consolidates memories, and regulates hormones. Poor sleep habits can interfere with these processes, leading to a range of health issues. Sleep deprivation is linked to obesity, weakened immunity, high blood pressure, and even increased risk of heart disease.\\n\\nMental health also heavily depends on good sleep. Lack of sleep can cause irritability, anxiety, depression, and decreased cognitive function. It becomes harder to focus, make decisions, or regulate emotions. For students and professionals alike, this can significantly reduce productivity and quality of life.'),\n",
              " Document(metadata={'source': '/content/Texts/benefits_of_reading_daily.txt'}, page_content='Emotionally, reading can provide comfort and reduce stress. Getting lost in a good book allows readers to escape daily worries and explore new perspectives. Fictional stories foster empathy by letting readers step into someone else’s shoes, while self-help or philosophical texts can provide guidance and insight.\\n\\nReading also promotes better sleep. Unlike the blue light from screens, the act of reading a physical book can signal to the brain that it’s time to wind down. Many people find that reading before bed helps them relax and fall asleep more easily.\\n\\nBeyond individual benefits, reading helps build knowledge and critical thinking. Nonfiction books offer in-depth understanding of complex topics like history, science, politics, and human behavior. This knowledge can help readers make informed decisions and engage more meaningfully in discussions and civic life.'),\n",
              " Document(metadata={'source': '/content/Texts/benefits_of_reading_daily.txt'}, page_content=\"Cultivating a reading habit doesn't require hours of free time. Even 20–30 minutes a day can yield noticeable benefits. Whether it’s during a morning commute, lunch break, or before bed, small daily reading sessions can become a meaningful routine.\\n\\nIn conclusion, daily reading is a simple yet powerful habit. It nurtures the mind, strengthens emotional well-being, and opens the door to lifelong learning. In a fast-paced world dominated by screens and instant information, taking time to read can ground us, inspire us, and improve our lives in profound ways.\")]"
            ]
          },
          "execution_count": 20,
          "metadata": {},
          "output_type": "execute_result"
        }
      ],
      "source": [
        "docs"
      ]
    },
    {
      "cell_type": "code",
      "execution_count": null,
      "metadata": {
        "id": "tra2-tgM6gm-"
      },
      "outputs": [],
      "source": []
    },
    {
      "cell_type": "markdown",
      "metadata": {
        "id": "YwYv4nHw2Lp7"
      },
      "source": [
        "Send this to an LLM"
      ]
    },
    {
      "cell_type": "code",
      "execution_count": null,
      "metadata": {
        "id": "g7fQvXij2OLK"
      },
      "outputs": [],
      "source": [
        "from langchain.chains import RetrievalQA"
      ]
    },
    {
      "cell_type": "code",
      "execution_count": null,
      "metadata": {
        "colab": {
          "base_uri": "https://localhost:8080/"
        },
        "id": "liZ3DBcP2bE_",
        "outputId": "9ec1522a-485d-4ad6-c55d-e7740e37992a"
      },
      "outputs": [
        {
          "name": "stderr",
          "output_type": "stream",
          "text": [
            "<ipython-input-22-28f3391c1344>:1: LangChainDeprecationWarning: The class `OpenAI` was deprecated in LangChain 0.0.10 and will be removed in 1.0. An updated version of the class exists in the :class:`~langchain-openai package and should be used instead. To use it run `pip install -U :class:`~langchain-openai` and import as `from :class:`~langchain_openai import OpenAI``.\n",
            "  qa_chain = RetrievalQA.from_chain_type(llm=OpenAI(),\n"
          ]
        }
      ],
      "source": [
        "qa_chain = RetrievalQA.from_chain_type(llm=OpenAI(),\n",
        "                                       chain_type=\"stuff\",\n",
        "                                       retriever=retriever,\n",
        "                                       return_source_documents=True)"
      ]
    },
    {
      "cell_type": "code",
      "execution_count": null,
      "metadata": {
        "id": "wmTWEEAN3Zux"
      },
      "outputs": [],
      "source": [
        "def process_llm_response (llm_response):\n",
        "  print(llm_response['result'])\n",
        "  print('\\n\\nSources:')\n",
        "  for source in llm_response[\"source_documents\"]:\n",
        "    print(source.metadata['source'])"
      ]
    },
    {
      "cell_type": "code",
      "execution_count": null,
      "metadata": {
        "colab": {
          "base_uri": "https://localhost:8080/"
        },
        "id": "N6CfZu8J2wj5",
        "outputId": "19093fe1-ba66-49a4-939e-5481bb19efa2"
      },
      "outputs": [
        {
          "name": "stderr",
          "output_type": "stream",
          "text": [
            "<ipython-input-24-42648fd28fae>:2: LangChainDeprecationWarning: The method `Chain.__call__` was deprecated in langchain 0.1.0 and will be removed in 1.0. Use :meth:`~invoke` instead.\n",
            "  llm_response = qa_chain(query)\n"
          ]
        },
        {
          "name": "stdout",
          "output_type": "stream",
          "text": [
            " No, it is not okay to miss out on sleep once a week. Consistent and sufficient sleep is essential for maintaining overall health and well-being. While occasional late nights may be unavoidable, consistently neglecting sleep can have detrimental effects on physical and mental health.\n",
            "\n",
            "\n",
            "Sources:\n",
            "/content/Texts/importance_of_sleep.txt\n",
            "/content/Texts/importance_of_sleep.txt\n",
            "/content/Texts/benefits_of_reading_daily.txt\n",
            "/content/Texts/benefits_of_reading_daily.txt\n"
          ]
        }
      ],
      "source": [
        "query = \"Is it okay to miss out on sleep once a week?\"\n",
        "llm_response = qa_chain(query)\n",
        "process_llm_response(llm_response)"
      ]
    },
    {
      "cell_type": "code",
      "execution_count": null,
      "metadata": {
        "colab": {
          "base_uri": "https://localhost:8080/"
        },
        "id": "YDl7eho46m3b",
        "outputId": "22390a85-3656-4e81-a0b9-9f045faedfbf"
      },
      "outputs": [
        {
          "name": "stdout",
          "output_type": "stream",
          "text": [
            " The narrative can change people's perception and understanding of the issue, potentially leading to different actions or behaviors in response. For example, if the narrative shifts from viewing climate change as a distant threat to a present crisis, individuals may be more motivated to take action and support policies and behaviors that address the issue. Similarly, if the narrative around social media shifts from solely negative effects on mental health to also highlighting responsible usage and digital literacy, individuals may be more mindful of their online behavior and make changes to protect their well-being. \n",
            "\n",
            "\n",
            "Sources:\n",
            "/content/Texts/climate_change_and_its_effects.txt\n",
            "/content/Texts/impact_of_social_media.txt\n",
            "/content/Texts/climate_change_and_its_effects.txt\n",
            "/content/Texts/digital_privacy_in_the_modern_world.txt\n"
          ]
        }
      ],
      "source": [
        "query = \"How would you say the narrative changes how people/what people do about an issue?\"\n",
        "llm_response = qa_chain(query)\n",
        "process_llm_response(llm_response)"
      ]
    }
  ],
  "metadata": {
    "colab": {
      "provenance": []
    },
    "kernelspec": {
      "display_name": "Python 3",
      "name": "python3"
    },
    "language_info": {
      "name": "python"
    }
  },
  "nbformat": 4,
  "nbformat_minor": 0
}
